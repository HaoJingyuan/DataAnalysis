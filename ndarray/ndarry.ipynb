{
 "cells": [
  {
   "cell_type": "code",
   "execution_count": 1,
   "metadata": {
    "collapsed": true
   },
   "outputs": [],
   "source": [
    "import numpy as np"
   ]
  },
  {
   "cell_type": "code",
   "execution_count": 4,
   "metadata": {},
   "outputs": [
    {
     "name": "stdout",
     "output_type": "stream",
     "text": [
      "1.13.3\n",
      "blas_mkl_info:\n",
      "    libraries = ['mkl_rt']\n",
      "    library_dirs = ['E:/Anaconda\\\\Library\\\\lib']\n",
      "    define_macros = [('SCIPY_MKL_H', None), ('HAVE_CBLAS', None)]\n",
      "    include_dirs = ['C:\\\\Program Files (x86)\\\\IntelSWTools\\\\compilers_and_libraries_2016.4.246\\\\windows\\\\mkl', 'C:\\\\Program Files (x86)\\\\IntelSWTools\\\\compilers_and_libraries_2016.4.246\\\\windows\\\\mkl\\\\include', 'C:\\\\Program Files (x86)\\\\IntelSWTools\\\\compilers_and_libraries_2016.4.246\\\\windows\\\\mkl\\\\lib', 'E:/Anaconda\\\\Library\\\\include']\n",
      "blas_opt_info:\n",
      "    libraries = ['mkl_rt']\n",
      "    library_dirs = ['E:/Anaconda\\\\Library\\\\lib']\n",
      "    define_macros = [('SCIPY_MKL_H', None), ('HAVE_CBLAS', None)]\n",
      "    include_dirs = ['C:\\\\Program Files (x86)\\\\IntelSWTools\\\\compilers_and_libraries_2016.4.246\\\\windows\\\\mkl', 'C:\\\\Program Files (x86)\\\\IntelSWTools\\\\compilers_and_libraries_2016.4.246\\\\windows\\\\mkl\\\\include', 'C:\\\\Program Files (x86)\\\\IntelSWTools\\\\compilers_and_libraries_2016.4.246\\\\windows\\\\mkl\\\\lib', 'E:/Anaconda\\\\Library\\\\include']\n",
      "lapack_mkl_info:\n",
      "    libraries = ['mkl_rt']\n",
      "    library_dirs = ['E:/Anaconda\\\\Library\\\\lib']\n",
      "    define_macros = [('SCIPY_MKL_H', None), ('HAVE_CBLAS', None)]\n",
      "    include_dirs = ['C:\\\\Program Files (x86)\\\\IntelSWTools\\\\compilers_and_libraries_2016.4.246\\\\windows\\\\mkl', 'C:\\\\Program Files (x86)\\\\IntelSWTools\\\\compilers_and_libraries_2016.4.246\\\\windows\\\\mkl\\\\include', 'C:\\\\Program Files (x86)\\\\IntelSWTools\\\\compilers_and_libraries_2016.4.246\\\\windows\\\\mkl\\\\lib', 'E:/Anaconda\\\\Library\\\\include']\n",
      "lapack_opt_info:\n",
      "    libraries = ['mkl_rt']\n",
      "    library_dirs = ['E:/Anaconda\\\\Library\\\\lib']\n",
      "    define_macros = [('SCIPY_MKL_H', None), ('HAVE_CBLAS', None)]\n",
      "    include_dirs = ['C:\\\\Program Files (x86)\\\\IntelSWTools\\\\compilers_and_libraries_2016.4.246\\\\windows\\\\mkl', 'C:\\\\Program Files (x86)\\\\IntelSWTools\\\\compilers_and_libraries_2016.4.246\\\\windows\\\\mkl\\\\include', 'C:\\\\Program Files (x86)\\\\IntelSWTools\\\\compilers_and_libraries_2016.4.246\\\\windows\\\\mkl\\\\lib', 'E:/Anaconda\\\\Library\\\\include']\n"
     ]
    }
   ],
   "source": [
    "print(np.__version__)\n",
    "np.show_config()"
   ]
  },
  {
   "cell_type": "code",
   "execution_count": 5,
   "metadata": {},
   "outputs": [
    {
     "name": "stdout",
     "output_type": "stream",
     "text": [
      "[ 0.  0.  0.  0.  0.  0.  0.  0.  0.  0.]\n"
     ]
    }
   ],
   "source": [
    "zero10 = np.zeros(10)\n",
    "print(zero10)"
   ]
  },
  {
   "cell_type": "code",
   "execution_count": 6,
   "metadata": {},
   "outputs": [
    {
     "name": "stdout",
     "output_type": "stream",
     "text": [
      "80 bytes\n"
     ]
    }
   ],
   "source": [
    "print(\"%d bytes\"%(zero10.size * zero10.itemsize))"
   ]
  },
  {
   "cell_type": "code",
   "execution_count": 7,
   "metadata": {},
   "outputs": [
    {
     "name": "stdout",
     "output_type": "stream",
     "text": [
      "add(x1, x2, /, out=None, *, where=True, casting='same_kind', order='K', dtype=None, subok=True[, signature, extobj])\n",
      "\n",
      "Add arguments element-wise.\n",
      "\n",
      "Parameters\n",
      "----------\n",
      "x1, x2 : array_like\n",
      "    The arrays to be added.  If ``x1.shape != x2.shape``, they must be\n",
      "    broadcastable to a common shape (which may be the shape of one or\n",
      "    the other).\n",
      "out : ndarray, None, or tuple of ndarray and None, optional\n",
      "    A location into which the result is stored. If provided, it must have\n",
      "    a shape that the inputs broadcast to. If not provided or `None`,\n",
      "    a freshly-allocated array is returned. A tuple (possible only as a\n",
      "    keyword argument) must have length equal to the number of outputs.\n",
      "where : array_like, optional\n",
      "    Values of True indicate to calculate the ufunc at that position, values\n",
      "    of False indicate to leave the value in the output alone.\n",
      "**kwargs\n",
      "    For other keyword-only arguments, see the\n",
      "    :ref:`ufunc docs <ufuncs.kwargs>`.\n",
      "\n",
      "Returns\n",
      "-------\n",
      "add : ndarray or scalar\n",
      "    The sum of `x1` and `x2`, element-wise.  Returns a scalar if\n",
      "    both  `x1` and `x2` are scalars.\n",
      "\n",
      "Notes\n",
      "-----\n",
      "Equivalent to `x1` + `x2` in terms of array broadcasting.\n",
      "\n",
      "Examples\n",
      "--------\n",
      ">>> np.add(1.0, 4.0)\n",
      "5.0\n",
      ">>> x1 = np.arange(9.0).reshape((3, 3))\n",
      ">>> x2 = np.arange(3.0)\n",
      ">>> np.add(x1, x2)\n",
      "array([[  0.,   2.,   4.],\n",
      "       [  3.,   5.,   7.],\n",
      "       [  6.,   8.,  10.]])\n"
     ]
    }
   ],
   "source": [
    "np.info(np.add)"
   ]
  },
  {
   "cell_type": "code",
   "execution_count": 8,
   "metadata": {},
   "outputs": [
    {
     "data": {
      "text/plain": [
       "array([[ 0.,  1.,  2.],\n",
       "       [ 3.,  4.,  5.],\n",
       "       [ 6.,  7.,  8.]])"
      ]
     },
     "execution_count": 8,
     "metadata": {},
     "output_type": "execute_result"
    }
   ],
   "source": [
    "x1 = np.arange(9.0).reshape((3, 3))\n",
    "x1"
   ]
  },
  {
   "cell_type": "code",
   "execution_count": 9,
   "metadata": {},
   "outputs": [
    {
     "data": {
      "text/plain": [
       "array([ 0.,  1.,  2.])"
      ]
     },
     "execution_count": 9,
     "metadata": {},
     "output_type": "execute_result"
    }
   ],
   "source": [
    "x2 = np.arange(3.0)\n",
    "x2"
   ]
  },
  {
   "cell_type": "code",
   "execution_count": 10,
   "metadata": {},
   "outputs": [
    {
     "name": "stdout",
     "output_type": "stream",
     "text": [
      "[ 0.  0.  0.  0.  1.  0.  0.  0.  0.  0.]\n"
     ]
    }
   ],
   "source": [
    "array = np.zeros(10)\n",
    "array[4] = 1\n",
    "print(array)"
   ]
  },
  {
   "cell_type": "code",
   "execution_count": 13,
   "metadata": {},
   "outputs": [
    {
     "name": "stdout",
     "output_type": "stream",
     "text": [
      "[10 11 12 13 14 15 16 17 18 19 20 21 22 23 24 25 26 27 28 29 30 31 32 33 34\n",
      " 35 36 37 38 39 40 41 42 43 44 45 46 47 48 49]\n"
     ]
    }
   ],
   "source": [
    "array = np.arange(10,50)\n",
    "print(array)"
   ]
  },
  {
   "cell_type": "code",
   "execution_count": 15,
   "metadata": {},
   "outputs": [
    {
     "name": "stdout",
     "output_type": "stream",
     "text": [
      "[49 30 19 33 34]\n"
     ]
    }
   ],
   "source": [
    "array = np.random.randint(10,50,5)\n",
    "print(array)"
   ]
  },
  {
   "cell_type": "code",
   "execution_count": 17,
   "metadata": {},
   "outputs": [
    {
     "data": {
      "text/plain": [
       "array([34, 33, 19, 30, 49])"
      ]
     },
     "execution_count": 17,
     "metadata": {},
     "output_type": "execute_result"
    }
   ],
   "source": [
    "array[::-1]"
   ]
  },
  {
   "cell_type": "code",
   "execution_count": 19,
   "metadata": {},
   "outputs": [
    {
     "name": "stdout",
     "output_type": "stream",
     "text": [
      "[[0 1 2]\n",
      " [3 4 5]\n",
      " [6 7 8]]\n"
     ]
    }
   ],
   "source": [
    "array = np.arange(9).reshape(3,3)\n",
    "print(array)"
   ]
  },
  {
   "cell_type": "code",
   "execution_count": 22,
   "metadata": {},
   "outputs": [
    {
     "data": {
      "text/plain": [
       "(array([0, 1, 4], dtype=int64),)"
      ]
     },
     "execution_count": 22,
     "metadata": {},
     "output_type": "execute_result"
    }
   ],
   "source": [
    "array = np.array([1,2,0,0,4,0])\n",
    "array.nonzero()"
   ]
  },
  {
   "cell_type": "code",
   "execution_count": 30,
   "metadata": {},
   "outputs": [
    {
     "name": "stdout",
     "output_type": "stream",
     "text": [
      "[[ 1.  0.  0.]\n",
      " [ 0.  1.  0.]\n",
      " [ 0.  0.  1.]]\n"
     ]
    }
   ],
   "source": [
    "array = np.eye(3)\n",
    "print(array)"
   ]
  },
  {
   "cell_type": "code",
   "execution_count": 32,
   "metadata": {},
   "outputs": [
    {
     "name": "stdout",
     "output_type": "stream",
     "text": [
      "[[[ 6  4 19]\n",
      "  [ 2  9 24]\n",
      "  [14  7  5]]\n",
      "\n",
      " [[ 8 15 24]\n",
      "  [ 9 12 23]\n",
      "  [16  9  9]]\n",
      "\n",
      " [[ 5 23  8]\n",
      "  [ 2  5  8]\n",
      "  [19 25  3]]]\n"
     ]
    }
   ],
   "source": [
    "array = np.random.randint(0,27,(3,3,3))\n",
    "print(array)"
   ]
  },
  {
   "cell_type": "code",
   "execution_count": 35,
   "metadata": {},
   "outputs": [
    {
     "name": "stdout",
     "output_type": "stream",
     "text": [
      "[[[ 0.61461677  0.10496687  0.10154102]\n",
      "  [ 0.94469918  0.91018683  0.35286974]\n",
      "  [ 0.38124596  0.38410269  0.33976454]]\n",
      "\n",
      " [[ 0.82639288  0.29056705  0.11678092]\n",
      "  [ 0.50840928  0.88744336  0.10996296]\n",
      "  [ 0.49853774  0.71086958  0.36541637]]\n",
      "\n",
      " [[ 0.61027105  0.0052585   0.68793759]\n",
      "  [ 0.81603167  0.0406712   0.09714689]\n",
      "  [ 0.71161843  0.08158501  0.94704828]]]\n"
     ]
    }
   ],
   "source": [
    "array = np.random.random((3,3,3))\n",
    "print(array)"
   ]
  },
  {
   "cell_type": "code",
   "execution_count": 38,
   "metadata": {},
   "outputs": [
    {
     "name": "stdout",
     "output_type": "stream",
     "text": [
      "max = 0.986151 ,min = 0.012427\n"
     ]
    }
   ],
   "source": [
    "array = np.random.random((10,10))\n",
    "ma = array.max()\n",
    "mi = array.min()\n",
    "print(\"max = %f ,min = %f\"%(ma,mi))"
   ]
  },
  {
   "cell_type": "code",
   "execution_count": 40,
   "metadata": {},
   "outputs": [
    {
     "name": "stdout",
     "output_type": "stream",
     "text": [
      "0.540448991925\n"
     ]
    }
   ],
   "source": [
    "array = np.random.random(30)\n",
    "mean = array.mean()\n",
    "print(mean)"
   ]
  },
  {
   "cell_type": "code",
   "execution_count": 41,
   "metadata": {},
   "outputs": [
    {
     "name": "stdout",
     "output_type": "stream",
     "text": [
      "[[ 1.  1.  1.  1.  1.  1.  1.  1.  1.  1.]\n",
      " [ 1.  0.  0.  0.  0.  0.  0.  0.  0.  1.]\n",
      " [ 1.  0.  0.  0.  0.  0.  0.  0.  0.  1.]\n",
      " [ 1.  0.  0.  0.  0.  0.  0.  0.  0.  1.]\n",
      " [ 1.  0.  0.  0.  0.  0.  0.  0.  0.  1.]\n",
      " [ 1.  0.  0.  0.  0.  0.  0.  0.  0.  1.]\n",
      " [ 1.  0.  0.  0.  0.  0.  0.  0.  0.  1.]\n",
      " [ 1.  0.  0.  0.  0.  0.  0.  0.  0.  1.]\n",
      " [ 1.  0.  0.  0.  0.  0.  0.  0.  0.  1.]\n",
      " [ 1.  1.  1.  1.  1.  1.  1.  1.  1.  1.]]\n"
     ]
    }
   ],
   "source": [
    "array = np.ones((10,10))\n",
    "array[1:-1,1:-1] = 0\n",
    "print(array)"
   ]
  },
  {
   "cell_type": "code",
   "execution_count": 49,
   "metadata": {},
   "outputs": [
    {
     "name": "stdout",
     "output_type": "stream",
     "text": [
      "[[0 0 0 0 0 0 0]\n",
      " [0 2 2 1 2 2 0]\n",
      " [0 2 3 2 0 2 0]\n",
      " [0 0 4 0 2 4 0]\n",
      " [0 2 2 0 0 3 0]\n",
      " [0 0 4 1 3 1 0]\n",
      " [0 0 0 0 0 0 0]]\n"
     ]
    }
   ],
   "source": [
    "array = np.random.randint(0,5,(5,5))\n",
    "array = np.pad(array,((1,1),(1,1)),'constant',constant_values = (0,0))\n",
    "print(array)"
   ]
  },
  {
   "cell_type": "code",
   "execution_count": 50,
   "metadata": {},
   "outputs": [
    {
     "data": {
      "text/plain": [
       "nan"
      ]
     },
     "execution_count": 50,
     "metadata": {},
     "output_type": "execute_result"
    }
   ],
   "source": [
    "0*np.nan"
   ]
  },
  {
   "cell_type": "code",
   "execution_count": 51,
   "metadata": {},
   "outputs": [
    {
     "data": {
      "text/plain": [
       "False"
      ]
     },
     "execution_count": 51,
     "metadata": {},
     "output_type": "execute_result"
    }
   ],
   "source": [
    "np.nan == np.nan"
   ]
  },
  {
   "cell_type": "code",
   "execution_count": 52,
   "metadata": {},
   "outputs": [
    {
     "data": {
      "text/plain": [
       "False"
      ]
     },
     "execution_count": 52,
     "metadata": {},
     "output_type": "execute_result"
    }
   ],
   "source": [
    "np.inf > np.nan"
   ]
  },
  {
   "cell_type": "code",
   "execution_count": 54,
   "metadata": {},
   "outputs": [
    {
     "data": {
      "text/plain": [
       "nan"
      ]
     },
     "execution_count": 54,
     "metadata": {},
     "output_type": "execute_result"
    }
   ],
   "source": [
    "np.nan - np.nan"
   ]
  },
  {
   "cell_type": "code",
   "execution_count": 55,
   "metadata": {},
   "outputs": [
    {
     "data": {
      "text/plain": [
       "0.30000000000000004"
      ]
     },
     "execution_count": 55,
     "metadata": {},
     "output_type": "execute_result"
    }
   ],
   "source": [
    "3 * 0.1"
   ]
  },
  {
   "cell_type": "code",
   "execution_count": 56,
   "metadata": {},
   "outputs": [
    {
     "data": {
      "text/plain": [
       "False"
      ]
     },
     "execution_count": 56,
     "metadata": {},
     "output_type": "execute_result"
    }
   ],
   "source": [
    "0.3 == 3 * 0.1"
   ]
  },
  {
   "cell_type": "code",
   "execution_count": 57,
   "metadata": {},
   "outputs": [
    {
     "name": "stdout",
     "output_type": "stream",
     "text": [
      "[[0 0 0 0 0]\n",
      " [1 0 0 0 0]\n",
      " [0 2 0 0 0]\n",
      " [0 0 3 0 0]\n",
      " [0 0 0 4 0]]\n"
     ]
    }
   ],
   "source": [
    "array = np.diag([1,2,3,4],k=-1)\n",
    "print(array)"
   ]
  },
  {
   "cell_type": "code",
   "execution_count": 58,
   "metadata": {},
   "outputs": [
    {
     "name": "stdout",
     "output_type": "stream",
     "text": [
      "[[0 1 0 1 0 1 0 1]\n",
      " [1 0 1 0 1 0 1 0]\n",
      " [0 1 0 1 0 1 0 1]\n",
      " [1 0 1 0 1 0 1 0]\n",
      " [0 1 0 1 0 1 0 1]\n",
      " [1 0 1 0 1 0 1 0]\n",
      " [0 1 0 1 0 1 0 1]\n",
      " [1 0 1 0 1 0 1 0]]\n"
     ]
    }
   ],
   "source": [
    " Z = np.zeros((8,8),dtype=int)\n",
    " Z[1::2,::2] = 1\n",
    " Z[::2,1::2] = 1\n",
    " print(Z)"
   ]
  },
  {
   "cell_type": "code",
   "execution_count": 59,
   "metadata": {},
   "outputs": [
    {
     "name": "stdout",
     "output_type": "stream",
     "text": [
      "(1, 5, 4)\n"
     ]
    }
   ],
   "source": [
    "print(np.unravel_index(100,(6,7,8)))"
   ]
  },
  {
   "cell_type": "code",
   "execution_count": 60,
   "metadata": {},
   "outputs": [
    {
     "name": "stdout",
     "output_type": "stream",
     "text": [
      "[[ 0.62357329  0.02468411  0.30563033  0.45444194  0.49168168]\n",
      " [ 0.17407709  0.43123762  0.61658777  0.89703665  0.43368626]\n",
      " [ 0.72118723  0.24099658  0.98845097  0.          0.62520514]\n",
      " [ 0.20126041  0.58048711  0.05637012  0.6851514   0.05784004]\n",
      " [ 0.53049821  0.59686905  0.79859831  0.76999157  1.        ]]\n"
     ]
    }
   ],
   "source": [
    "array = np.random.random((5,5))\n",
    "amax = array.max()\n",
    "amin = array.min()\n",
    "array = (array-amin)/(amax-amin)\n",
    "print(array)"
   ]
  },
  {
   "cell_type": "code",
   "execution_count": 61,
   "metadata": {},
   "outputs": [
    {
     "data": {
      "text/plain": [
       "array([[12, 10],\n",
       "       [ 8,  7],\n",
       "       [ 8, 12],\n",
       "       [13, 15],\n",
       "       [ 9, 10]])"
      ]
     },
     "execution_count": 61,
     "metadata": {},
     "output_type": "execute_result"
    }
   ],
   "source": [
    "array1 = np.random.randint(1,4,(5,3))\n",
    "array2 = np.random.randint(1,4,(3,2))\n",
    "array1.dot(array2)"
   ]
  },
  {
   "cell_type": "code",
   "execution_count": 68,
   "metadata": {},
   "outputs": [
    {
     "name": "stdout",
     "output_type": "stream",
     "text": [
      "[[4 9 8]\n",
      " [4 6 6]\n",
      " [9 1 1]\n",
      " [8 2 8]\n",
      " [3 2 8]]\n",
      "[[-4  9  8]\n",
      " [-4 -6 -6]\n",
      " [ 9  1  1]\n",
      " [ 8  2  8]\n",
      " [-3  2  8]]\n"
     ]
    }
   ],
   "source": [
    "array = np.random.randint(1,11,(5,3))\n",
    "print(array)\n",
    "array[(3<=array) & (array<8)] *= -1\n",
    "print(array)"
   ]
  },
  {
   "cell_type": "code",
   "execution_count": 82,
   "metadata": {},
   "outputs": [
    {
     "name": "stdout",
     "output_type": "stream",
     "text": [
      "10\n"
     ]
    }
   ],
   "source": [
    "print(sum(range(5),-1))"
   ]
  },
  {
   "cell_type": "code",
   "execution_count": 81,
   "metadata": {},
   "outputs": [
    {
     "name": "stdout",
     "output_type": "stream",
     "text": [
      "10\n"
     ]
    }
   ],
   "source": [
    "print(np.sum(range(5),-1))"
   ]
  },
  {
   "cell_type": "code",
   "execution_count": 89,
   "metadata": {},
   "outputs": [
    {
     "data": {
      "text/plain": [
       "array([1, 2, 4], dtype=int32)"
      ]
     },
     "execution_count": 89,
     "metadata": {},
     "output_type": "execute_result"
    }
   ],
   "source": [
    "a = np.array([1,2,3])\n",
    "2 << a >> 2"
   ]
  },
  {
   "cell_type": "code",
   "execution_count": 90,
   "metadata": {},
   "outputs": [
    {
     "name": "stdout",
     "output_type": "stream",
     "text": [
      "0\n"
     ]
    },
    {
     "name": "stderr",
     "output_type": "stream",
     "text": [
      "E:\\Anaconda\\lib\\site-packages\\ipykernel_launcher.py:1: RuntimeWarning: divide by zero encountered in floor_divide\n",
      "  \"\"\"Entry point for launching an IPython kernel.\n"
     ]
    }
   ],
   "source": [
    "print(np.array(0) // np.array(0))"
   ]
  },
  {
   "cell_type": "code",
   "execution_count": 91,
   "metadata": {},
   "outputs": [
    {
     "name": "stdout",
     "output_type": "stream",
     "text": [
      "nan\n"
     ]
    },
    {
     "name": "stderr",
     "output_type": "stream",
     "text": [
      "E:\\Anaconda\\lib\\site-packages\\ipykernel_launcher.py:1: RuntimeWarning: invalid value encountered in true_divide\n",
      "  \"\"\"Entry point for launching an IPython kernel.\n"
     ]
    }
   ],
   "source": [
    "print(np.array(0) / np.array(0))"
   ]
  },
  {
   "cell_type": "code",
   "execution_count": 92,
   "metadata": {},
   "outputs": [
    {
     "data": {
      "text/plain": [
       "array([ -2.14748365e+09])"
      ]
     },
     "execution_count": 92,
     "metadata": {},
     "output_type": "execute_result"
    }
   ],
   "source": [
    "np.array([np.nan]).astype(int).astype(float)"
   ]
  },
  {
   "cell_type": "code",
   "execution_count": 93,
   "metadata": {},
   "outputs": [
    {
     "name": "stderr",
     "output_type": "stream",
     "text": [
      "E:\\Anaconda\\lib\\site-packages\\ipykernel_launcher.py:1: RuntimeWarning: invalid value encountered in sqrt\n",
      "  \"\"\"Entry point for launching an IPython kernel.\n"
     ]
    },
    {
     "data": {
      "text/plain": [
       "False"
      ]
     },
     "execution_count": 93,
     "metadata": {},
     "output_type": "execute_result"
    }
   ],
   "source": [
    "np.sqrt(-1) == np.emath.sqrt(-1)"
   ]
  },
  {
   "cell_type": "code",
   "execution_count": 94,
   "metadata": {},
   "outputs": [
    {
     "data": {
      "text/plain": [
       "1j"
      ]
     },
     "execution_count": 94,
     "metadata": {},
     "output_type": "execute_result"
    }
   ],
   "source": [
    " np.emath.sqrt(-1)"
   ]
  },
  {
   "cell_type": "code",
   "execution_count": 95,
   "metadata": {},
   "outputs": [
    {
     "name": "stderr",
     "output_type": "stream",
     "text": [
      "E:\\Anaconda\\lib\\site-packages\\ipykernel_launcher.py:1: RuntimeWarning: invalid value encountered in sqrt\n",
      "  \"\"\"Entry point for launching an IPython kernel.\n"
     ]
    },
    {
     "data": {
      "text/plain": [
       "nan"
      ]
     },
     "execution_count": 95,
     "metadata": {},
     "output_type": "execute_result"
    }
   ],
   "source": [
    "np.sqrt(-1)"
   ]
  },
  {
   "cell_type": "code",
   "execution_count": 100,
   "metadata": {},
   "outputs": [
    {
     "name": "stdout",
     "output_type": "stream",
     "text": [
      "uniform(low=0.0, high=1.0, size=None)\n",
      "\n",
      "Draw samples from a uniform distribution.\n",
      "\n",
      "Samples are uniformly distributed over the half-open interval\n",
      "``[low, high)`` (includes low, but excludes high).  In other words,\n",
      "any value within the given interval is equally likely to be drawn\n",
      "by `uniform`.\n",
      "\n",
      "Parameters\n",
      "----------\n",
      "low : float or array_like of floats, optional\n",
      "    Lower boundary of the output interval.  All values generated will be\n",
      "    greater than or equal to low.  The default value is 0.\n",
      "high : float or array_like of floats\n",
      "    Upper boundary of the output interval.  All values generated will be\n",
      "    less than high.  The default value is 1.0.\n",
      "size : int or tuple of ints, optional\n",
      "    Output shape.  If the given shape is, e.g., ``(m, n, k)``, then\n",
      "    ``m * n * k`` samples are drawn.  If size is ``None`` (default),\n",
      "    a single value is returned if ``low`` and ``high`` are both scalars.\n",
      "    Otherwise, ``np.broadcast(low, high).size`` samples are drawn.\n",
      "\n",
      "Returns\n",
      "-------\n",
      "out : ndarray or scalar\n",
      "    Drawn samples from the parameterized uniform distribution.\n",
      "\n",
      "See Also\n",
      "--------\n",
      "randint : Discrete uniform distribution, yielding integers.\n",
      "random_integers : Discrete uniform distribution over the closed\n",
      "                  interval ``[low, high]``.\n",
      "random_sample : Floats uniformly distributed over ``[0, 1)``.\n",
      "random : Alias for `random_sample`.\n",
      "rand : Convenience function that accepts dimensions as input, e.g.,\n",
      "       ``rand(2,2)`` would generate a 2-by-2 array of floats,\n",
      "       uniformly distributed over ``[0, 1)``.\n",
      "\n",
      "Notes\n",
      "-----\n",
      "The probability density function of the uniform distribution is\n",
      "\n",
      ".. math:: p(x) = \\frac{1}{b - a}\n",
      "\n",
      "anywhere within the interval ``[a, b)``, and zero elsewhere.\n",
      "\n",
      "When ``high`` == ``low``, values of ``low`` will be returned.\n",
      "If ``high`` < ``low``, the results are officially undefined\n",
      "and may eventually raise an error, i.e. do not rely on this\n",
      "function to behave when passed arguments satisfying that\n",
      "inequality condition.\n",
      "\n",
      "Examples\n",
      "--------\n",
      "Draw samples from the distribution:\n",
      "\n",
      ">>> s = np.random.uniform(-1,0,1000)\n",
      "\n",
      "All values are within the given interval:\n",
      "\n",
      ">>> np.all(s >= -1)\n",
      "True\n",
      ">>> np.all(s < 0)\n",
      "True\n",
      "\n",
      "Display the histogram of the samples, along with the\n",
      "probability density function:\n",
      "\n",
      ">>> import matplotlib.pyplot as plt\n",
      ">>> count, bins, ignored = plt.hist(s, 15, normed=True)\n",
      ">>> plt.plot(bins, np.ones_like(bins), linewidth=2, color='r')\n",
      ">>> plt.show()\n",
      "[-9.06791556 -8.88190208 -4.23364727 -9.83482778  1.14625866  8.1173878\n",
      " -8.97682791 -7.42177588 -7.1117049   4.87215938]\n",
      "[-10.  -9.  -5. -10.   2.   9.  -9.  -8.  -8.   5.]\n"
     ]
    }
   ],
   "source": [
    "np.info(np.random.uniform)\n",
    "array = np.random.uniform(-10,+10,10)\n",
    "print(array)\n",
    "print(np.copysign(np.ceil(np.abs(array)),array))"
   ]
  },
  {
   "cell_type": "code",
   "execution_count": 103,
   "metadata": {},
   "outputs": [
    {
     "name": "stdout",
     "output_type": "stream",
     "text": [
      " intersect1d(ar1, ar2, assume_unique=False)\n",
      "\n",
      "Find the intersection of two arrays.\n",
      "\n",
      "Return the sorted, unique values that are in both of the input arrays.\n",
      "\n",
      "Parameters\n",
      "----------\n",
      "ar1, ar2 : array_like\n",
      "    Input arrays.\n",
      "assume_unique : bool\n",
      "    If True, the input arrays are both assumed to be unique, which\n",
      "    can speed up the calculation.  Default is False.\n",
      "\n",
      "Returns\n",
      "-------\n",
      "intersect1d : ndarray\n",
      "    Sorted 1D array of common and unique elements.\n",
      "\n",
      "See Also\n",
      "--------\n",
      "numpy.lib.arraysetops : Module with a number of other functions for\n",
      "                        performing set operations on arrays.\n",
      "\n",
      "Examples\n",
      "--------\n",
      ">>> np.intersect1d([1, 3, 4, 3], [3, 1, 2, 1])\n",
      "array([1, 3])\n",
      "\n",
      "To intersect more than two arrays, use functools.reduce:\n",
      "\n",
      ">>> from functools import reduce\n",
      ">>> reduce(np.intersect1d, ([1, 3, 4, 3], [3, 1, 2, 1], [6, 3, 4, 2]))\n",
      "array([3])\n",
      "[4 6 7 8 9]\n"
     ]
    }
   ],
   "source": [
    "np.info(np.intersect1d)\n",
    "a1 = np.random.randint(0,10,10)\n",
    "a2 = np.random.randint(0,10,10)\n",
    "print(np.intersect1d(a1,a2))"
   ]
  },
  {
   "cell_type": "code",
   "execution_count": 108,
   "metadata": {},
   "outputs": [
    {
     "name": "stdout",
     "output_type": "stream",
     "text": [
      "2019-06-22\n",
      "2019-06-23\n",
      "2019-06-24\n"
     ]
    }
   ],
   "source": [
    "yesterday = np.datetime64('today','D')-np.timedelta64(1,\"D\")\n",
    "print(yesterday)\n",
    "today = np.datetime64(\"today\",\"D\")\n",
    "print(today)\n",
    "tomorrow = np.datetime64('today',\"D\") + np.timedelta64(1,\"D\")\n",
    "print(tomorrow)"
   ]
  },
  {
   "cell_type": "code",
   "execution_count": 110,
   "metadata": {},
   "outputs": [
    {
     "name": "stdout",
     "output_type": "stream",
     "text": [
      "['2016-07-01' '2016-07-02' '2016-07-03' '2016-07-04' '2016-07-05'\n",
      " '2016-07-06' '2016-07-07' '2016-07-08' '2016-07-09' '2016-07-10'\n",
      " '2016-07-11' '2016-07-12' '2016-07-13' '2016-07-14' '2016-07-15'\n",
      " '2016-07-16' '2016-07-17' '2016-07-18' '2016-07-19' '2016-07-20'\n",
      " '2016-07-21' '2016-07-22' '2016-07-23' '2016-07-24' '2016-07-25'\n",
      " '2016-07-26' '2016-07-27' '2016-07-28' '2016-07-29' '2016-07-30'\n",
      " '2016-07-31']\n"
     ]
    }
   ],
   "source": [
    "array = np.arange('2016-07','2016-08',dtype='datetime64[D]')\n",
    "print(array)"
   ]
  },
  {
   "cell_type": "code",
   "execution_count": 115,
   "metadata": {},
   "outputs": [
    {
     "name": "stdout",
     "output_type": "stream",
     "text": [
      "[ 4.  0.  4.  0.  9.  3.  7.  2.  3.  0.]\n",
      "[ 4.  0.  4.  0.  9.  3.  7.  2.  3.  0.]\n",
      "[ 4.  0.  4.  0.  9.  3.  7.  2.  3.  0.]\n",
      "[4 0 4 0 9 3 7 2 3 0]\n",
      "[ 4.  0.  4.  0.  9.  3.  7.  2.  3.  0.]\n"
     ]
    }
   ],
   "source": [
    "array = np.random.uniform(0,10,10)\n",
    "print(array - array%1)\n",
    "print(np.floor(array))\n",
    "print(np.ceil(array)-1)\n",
    "print(array.astype(int))\n",
    "print(np.trunc(array))"
   ]
  },
  {
   "cell_type": "code",
   "execution_count": 116,
   "metadata": {},
   "outputs": [
    {
     "name": "stdout",
     "output_type": "stream",
     "text": [
      "[[0 3 3 4 4]\n",
      " [0 1 3 1 4]\n",
      " [0 0 3 1 4]\n",
      " [4 2 2 0 3]\n",
      " [2 4 3 1 0]]\n"
     ]
    }
   ],
   "source": [
    "array = np.random.randint(0,5,(5,5))\n",
    "print(array)"
   ]
  },
  {
   "cell_type": "code",
   "execution_count": 118,
   "metadata": {},
   "outputs": [
    {
     "name": "stdout",
     "output_type": "stream",
     "text": [
      " linspace(start, stop, num=50, endpoint=True, retstep=False, dtype=None)\n",
      "\n",
      "Return evenly spaced numbers over a specified interval.\n",
      "\n",
      "Returns `num` evenly spaced samples, calculated over the\n",
      "interval [`start`, `stop`].\n",
      "\n",
      "The endpoint of the interval can optionally be excluded.\n",
      "\n",
      "Parameters\n",
      "----------\n",
      "start : scalar\n",
      "    The starting value of the sequence.\n",
      "stop : scalar\n",
      "    The end value of the sequence, unless `endpoint` is set to False.\n",
      "    In that case, the sequence consists of all but the last of ``num + 1``\n",
      "    evenly spaced samples, so that `stop` is excluded.  Note that the step\n",
      "    size changes when `endpoint` is False.\n",
      "num : int, optional\n",
      "    Number of samples to generate. Default is 50. Must be non-negative.\n",
      "endpoint : bool, optional\n",
      "    If True, `stop` is the last sample. Otherwise, it is not included.\n",
      "    Default is True.\n",
      "retstep : bool, optional\n",
      "    If True, return (`samples`, `step`), where `step` is the spacing\n",
      "    between samples.\n",
      "dtype : dtype, optional\n",
      "    The type of the output array.  If `dtype` is not given, infer the data\n",
      "    type from the other input arguments.\n",
      "\n",
      "    .. versionadded:: 1.9.0\n",
      "\n",
      "Returns\n",
      "-------\n",
      "samples : ndarray\n",
      "    There are `num` equally spaced samples in the closed interval\n",
      "    ``[start, stop]`` or the half-open interval ``[start, stop)``\n",
      "    (depending on whether `endpoint` is True or False).\n",
      "step : float, optional\n",
      "    Only returned if `retstep` is True\n",
      "\n",
      "    Size of spacing between samples.\n",
      "\n",
      "\n",
      "See Also\n",
      "--------\n",
      "arange : Similar to `linspace`, but uses a step size (instead of the\n",
      "         number of samples).\n",
      "logspace : Samples uniformly distributed in log space.\n",
      "\n",
      "Examples\n",
      "--------\n",
      ">>> np.linspace(2.0, 3.0, num=5)\n",
      "array([ 2.  ,  2.25,  2.5 ,  2.75,  3.  ])\n",
      ">>> np.linspace(2.0, 3.0, num=5, endpoint=False)\n",
      "array([ 2. ,  2.2,  2.4,  2.6,  2.8])\n",
      ">>> np.linspace(2.0, 3.0, num=5, retstep=True)\n",
      "(array([ 2.  ,  2.25,  2.5 ,  2.75,  3.  ]), 0.25)\n",
      "\n",
      "Graphical illustration:\n",
      "\n",
      ">>> import matplotlib.pyplot as plt\n",
      ">>> N = 8\n",
      ">>> y = np.zeros(N)\n",
      ">>> x1 = np.linspace(0, 10, N, endpoint=True)\n",
      ">>> x2 = np.linspace(0, 10, N, endpoint=False)\n",
      ">>> plt.plot(x1, y, 'o')\n",
      "[<matplotlib.lines.Line2D object at 0x...>]\n",
      ">>> plt.plot(x2, y + 0.5, 'o')\n",
      "[<matplotlib.lines.Line2D object at 0x...>]\n",
      ">>> plt.ylim([-0.5, 1])\n",
      "(-0.5, 1)\n",
      ">>> plt.show()\n",
      "[ 0.09090909  0.18181818  0.27272727  0.36363636  0.45454545  0.54545455\n",
      "  0.63636364  0.72727273  0.81818182  0.90909091]\n"
     ]
    }
   ],
   "source": [
    "np.info(np.linspace)\n",
    "array = np.linspace(0,1,11,endpoint = False)[1:]\n",
    "print(array)"
   ]
  },
  {
   "cell_type": "code",
   "execution_count": 119,
   "metadata": {},
   "outputs": [
    {
     "data": {
      "text/plain": [
       "array([ 0.06116989,  0.10433245,  0.18974493,  0.23858464,  0.56429218,\n",
       "        0.89433302,  0.89896323,  0.91110877,  0.92133084,  0.96770173])"
      ]
     },
     "execution_count": 119,
     "metadata": {},
     "output_type": "execute_result"
    }
   ],
   "source": [
    "np.sort(np.random.random(10))"
   ]
  },
  {
   "cell_type": "code",
   "execution_count": 120,
   "metadata": {},
   "outputs": [
    {
     "data": {
      "text/plain": [
       "45"
      ]
     },
     "execution_count": 120,
     "metadata": {},
     "output_type": "execute_result"
    }
   ],
   "source": [
    "ar = np.arange(10)\n",
    "np.add.reduce(ar)"
   ]
  },
  {
   "cell_type": "code",
   "execution_count": 122,
   "metadata": {},
   "outputs": [
    {
     "name": "stdout",
     "output_type": "stream",
     "text": [
      "True True\n"
     ]
    }
   ],
   "source": [
    "ar1 = np.arange(9).reshape(3,3)\n",
    "ar2 = np.arange(9).reshape(3,3)\n",
    "eq = np.allclose(ar1,ar2)\n",
    "eq1 = np.array_equal(ar1,ar2)\n",
    "print(eq,eq1)"
   ]
  },
  {
   "cell_type": "code",
   "execution_count": 124,
   "metadata": {},
   "outputs": [
    {
     "name": "stdout",
     "output_type": "stream",
     "text": [
      "[[ 1.  0.  0.]\n",
      " [ 0.  1.  0.]\n",
      " [ 0.  0.  1.]]\n"
     ]
    }
   ],
   "source": [
    "ar = np.eye(3)\n",
    "ar.flags.writeable = False\n",
    "print(ar)"
   ]
  },
  {
   "cell_type": "code",
   "execution_count": 125,
   "metadata": {},
   "outputs": [
    {
     "name": "stdout",
     "output_type": "stream",
     "text": [
      "[(( 0.,  0.), ( 0.,  0.,  0.)) (( 0.,  0.), ( 0.,  0.,  0.))\n",
      " (( 0.,  0.), ( 0.,  0.,  0.)) (( 0.,  0.), ( 0.,  0.,  0.))\n",
      " (( 0.,  0.), ( 0.,  0.,  0.)) (( 0.,  0.), ( 0.,  0.,  0.))\n",
      " (( 0.,  0.), ( 0.,  0.,  0.)) (( 0.,  0.), ( 0.,  0.,  0.))\n",
      " (( 0.,  0.), ( 0.,  0.,  0.)) (( 0.,  0.), ( 0.,  0.,  0.))]\n"
     ]
    }
   ],
   "source": [
    "Z = np.zeros(10, [ ('position', [ ('x', float, 1),\n",
    "                                   ('y', float, 1)]),\n",
    "                    ('color',    [ ('r', float, 1),\n",
    "                                   ('g', float, 1),\n",
    "                                   ('b', float, 1)])])\n",
    "print (Z)"
   ]
  },
  {
   "cell_type": "code",
   "execution_count": 133,
   "metadata": {},
   "outputs": [
    {
     "name": "stdout",
     "output_type": "stream",
     "text": [
      "[ 3.55163693  3.66702862  3.35216547  3.32827893  3.59350908  3.13455505\n",
      "  3.14304885  3.01255685  3.97157631  3.7101731 ]\n",
      "[3 3 3 3 3 3 3 3 3 3]\n"
     ]
    }
   ],
   "source": [
    "ar = np.random.random(10)+3\n",
    "print(ar)\n",
    "ar = ar.astype(np.int32,copy = False)\n",
    "print(ar)"
   ]
  },
  {
   "cell_type": "code",
   "execution_count": 135,
   "metadata": {},
   "outputs": [
    {
     "name": "stdout",
     "output_type": "stream",
     "text": [
      "[[ 0.36787944  0.44822088  0.51979489  0.57375342  0.60279818  0.60279818\n",
      "   0.57375342  0.51979489  0.44822088  0.36787944]\n",
      " [ 0.44822088  0.54610814  0.63331324  0.69905581  0.73444367  0.73444367\n",
      "   0.69905581  0.63331324  0.54610814  0.44822088]\n",
      " [ 0.51979489  0.63331324  0.73444367  0.81068432  0.85172308  0.85172308\n",
      "   0.81068432  0.73444367  0.63331324  0.51979489]\n",
      " [ 0.57375342  0.69905581  0.81068432  0.89483932  0.9401382   0.9401382\n",
      "   0.89483932  0.81068432  0.69905581  0.57375342]\n",
      " [ 0.60279818  0.73444367  0.85172308  0.9401382   0.98773022  0.98773022\n",
      "   0.9401382   0.85172308  0.73444367  0.60279818]\n",
      " [ 0.60279818  0.73444367  0.85172308  0.9401382   0.98773022  0.98773022\n",
      "   0.9401382   0.85172308  0.73444367  0.60279818]\n",
      " [ 0.57375342  0.69905581  0.81068432  0.89483932  0.9401382   0.9401382\n",
      "   0.89483932  0.81068432  0.69905581  0.57375342]\n",
      " [ 0.51979489  0.63331324  0.73444367  0.81068432  0.85172308  0.85172308\n",
      "   0.81068432  0.73444367  0.63331324  0.51979489]\n",
      " [ 0.44822088  0.54610814  0.63331324  0.69905581  0.73444367  0.73444367\n",
      "   0.69905581  0.63331324  0.54610814  0.44822088]\n",
      " [ 0.36787944  0.44822088  0.51979489  0.57375342  0.60279818  0.60279818\n",
      "   0.57375342  0.51979489  0.44822088  0.36787944]]\n"
     ]
    }
   ],
   "source": [
    "x,y = np.meshgrid(np.linspace(-1,1,10),np.linspace(-1,1,10))\n",
    "d = np.sqrt(x*x + y*y)\n",
    "sigma,mu = 1.0,0.0\n",
    "g = np.exp(-((d-mu)**2 / (2.0 * sigma ** 2)))\n",
    "print(g)"
   ]
  },
  {
   "cell_type": "code",
   "execution_count": 139,
   "metadata": {},
   "outputs": [
    {
     "name": "stdout",
     "output_type": "stream",
     "text": [
      "[[ 0.  0.  0.  0.  0.  0.  1.  1.  0.  0.]\n",
      " [ 0.  1.  0.  0.  0.  1.  0.  0.  0.  0.]\n",
      " [ 0.  0.  0.  1.  1.  0.  0.  0.  1.  0.]\n",
      " [ 0.  0.  0.  0.  0.  1.  0.  0.  1.  0.]\n",
      " [ 0.  0.  1.  0.  0.  1.  0.  0.  0.  0.]\n",
      " [ 1.  1.  1.  0.  0.  0.  0.  1.  0.  1.]\n",
      " [ 0.  1.  0.  0.  1.  0.  1.  1.  1.  0.]\n",
      " [ 0.  0.  0.  1.  0.  0.  0.  0.  0.  0.]\n",
      " [ 0.  0.  0.  1.  0.  0.  1.  1.  1.  0.]\n",
      " [ 1.  1.  0.  0.  0.  1.  1.  0.  0.  0.]]\n"
     ]
    }
   ],
   "source": [
    "n = 10\n",
    "p = 30\n",
    "Z = np.zeros((n,n))\n",
    "np.put(Z, np.random.choice(range(n*n), p, replace=False),1)\n",
    "print (Z)"
   ]
  },
  {
   "cell_type": "code",
   "execution_count": 140,
   "metadata": {},
   "outputs": [
    {
     "name": "stdout",
     "output_type": "stream",
     "text": [
      "[[ 0.14309835  0.2815789   0.28225287  0.46173663 -0.34577806 -0.40385555\n",
      "   0.08644254  0.2169483  -0.48905155 -0.23337241]\n",
      " [ 0.21804624 -0.43644848  0.20497408  0.3283175  -0.02608412  0.35918276\n",
      "  -0.46075831 -0.11898951  0.37632845 -0.4445686 ]\n",
      " [ 0.03061854  0.03581673 -0.22746431  0.36333261  0.48015887 -0.41820648\n",
      "  -0.01100353 -0.11008695 -0.00223136 -0.14093411]\n",
      " [-0.24639835  0.01253029  0.26041997  0.42513617 -0.29695898 -0.02279182\n",
      "  -0.1869306   0.35234023 -0.15602078 -0.14132613]\n",
      " [ 0.11332672 -0.35416458 -0.34423639  0.00528892  0.18280199  0.20684414\n",
      "  -0.00269709 -0.17334981  0.3300471   0.036139  ]]\n"
     ]
    }
   ],
   "source": [
    "X = np.random.rand(5, 10)\n",
    "Y = X - X.mean(axis=1, keepdims=True)\n",
    "print(Y)"
   ]
  },
  {
   "cell_type": "code",
   "execution_count": null,
   "metadata": {
    "collapsed": true
   },
   "outputs": [],
   "source": []
  }
 ],
 "metadata": {
  "kernelspec": {
   "display_name": "Python 3",
   "language": "python",
   "name": "python3"
  },
  "language_info": {
   "codemirror_mode": {
    "name": "ipython",
    "version": 3
   },
   "file_extension": ".py",
   "mimetype": "text/x-python",
   "name": "python",
   "nbconvert_exporter": "python",
   "pygments_lexer": "ipython3",
   "version": "3.6.3"
  }
 },
 "nbformat": 4,
 "nbformat_minor": 2
}
